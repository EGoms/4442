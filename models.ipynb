{
 "cells": [
  {
   "cell_type": "code",
   "execution_count": 1,
   "metadata": {},
   "outputs": [],
   "source": [
    "from sklearn.linear_model import LogisticRegression\n",
    "from sklearn.svm import SVC, LinearSVC\n",
    "from sklearn.neural_network import MLPClassifier\n",
    "from sklearn.neighbors import KNeighborsClassifier\n",
    "from sklearn.tree import DecisionTreeClassifier\n",
    "from sklearn.naive_bayes import GaussianNB\n",
    "from sklearn.ensemble import GradientBoostingClassifier\n",
    "from sklearn.discriminant_analysis import LinearDiscriminantAnalysis, QuadraticDiscriminantAnalysis\n",
    "from tqdm.notebook import tqdm\n",
    "import time\n",
    "import warnings\n",
    "warnings.filterwarnings('ignore')"
   ]
  },
  {
   "cell_type": "code",
   "execution_count": 2,
   "metadata": {},
   "outputs": [
    {
     "name": "stdout",
     "output_type": "stream",
     "text": [
      "Not enough Echonest features: (13129, 767)\n",
      "19922 training examples, 2505 validation examples, 2573 testing examples\n",
      "Top genres (16): ['Blues', 'Classical', 'Country', 'Easy Listening', 'Electronic', 'Experimental', 'Folk', 'Hip-Hop', 'Instrumental', 'International', 'Jazz', 'Old-Time / Historic', 'Pop', 'Rock', 'Soul-RnB', 'Spoken']\n",
      "All genres (151): [1, 2, 3, 4, 5, 6, 7, 8, 9, 10, 11, 12, 13, 14, 15, 16, 17, 18, 19, 20, 21, 22, 25, 26, 27, 30, 31, 32, 33, 36, 37, 38, 41, 42, 43, 45, 46, 47, 49, 53, 58, 63, 64, 65, 66, 70, 71, 74, 76, 77, 79, 81, 83, 85, 86, 88, 89, 90, 92, 94, 97, 98, 100, 101, 102, 103, 107, 109, 111, 113, 117, 118, 125, 130, 137, 138, 166, 167, 169, 171, 172, 174, 177, 179, 180, 181, 182, 183, 184, 185, 186, 187, 188, 189, 214, 224, 232, 236, 240, 247, 250, 267, 286, 296, 297, 311, 314, 322, 337, 359, 360, 361, 362, 374, 378, 400, 401, 404, 428, 439, 440, 441, 442, 443, 456, 468, 491, 495, 502, 504, 514, 524, 538, 539, 542, 580, 602, 619, 651, 659, 695, 741, 763, 808, 810, 811, 906, 1032, 1060, 1193, 1235]\n"
     ]
    }
   ],
   "source": [
    "%run pre_proc.ipynb"
   ]
  },
  {
   "cell_type": "code",
   "execution_count": 9,
   "metadata": {},
   "outputs": [],
   "source": [
    "models = {\n",
    "    'LR': LogisticRegression(solver='saga'),\n",
    "    'SVClinear': LinearSVC(),\n",
    "    'SVCrbf': SVC(kernel='rbf'),\n",
    "    'kNN': KNeighborsClassifier(n_neighbors=200),\n",
    "    'MLP': MLPClassifier(random_state=42, max_iter=200),\n",
    "    'DT': DecisionTreeClassifier(max_depth=5),\n",
    "    'NB': GaussianNB(),\n",
    "    'GBC': GradientBoostingClassifier(),\n",
    "    'LDA': LinearDiscriminantAnalysis(),\n",
    "    'QDA': QuadraticDiscriminantAnalysis(),\n",
    "}"
   ]
  },
  {
   "cell_type": "code",
   "execution_count": 5,
   "metadata": {},
   "outputs": [],
   "source": [
    "def run_models(models, features):\n",
    "    columns = list(models.keys()).insert(0, 'dim')\n",
    "    scores = pd.DataFrame(columns=columns, index=feature_sets.keys())\n",
    "    for fset_name, fset in tqdm(feature_sets.items(), desc='features'):\n",
    "        y_train, y_val, y_test, X_train, X_val, X_test = pre_process(tracks, features_all, fset, False)\n",
    "        scores.loc[fset_name, 'dim'] = X_train.shape[1]\n",
    "        for clf_name, clf in models.items():\n",
    "            clf.fit(X_train, y_train)\n",
    "            score = clf.score(X_test, y_test)\n",
    "            scores.loc[fset_name, clf_name] = score\n",
    "    return scores\n",
    "\n",
    "def format_scores(scores):\n",
    "    def highlight(s):\n",
    "        is_max = s == max(s[1:])\n",
    "        return ['background-color: yellow' if v else '' for v in is_max]\n",
    "    scores = scores.style.apply(highlight, axis=1)\n",
    "    return scores.format('{:.2%}', subset=pd.IndexSlice[:, scores.columns[1]:])"
   ]
  },
  {
   "cell_type": "code",
   "execution_count": 8,
   "metadata": {},
   "outputs": [
    {
     "data": {
      "application/vnd.jupyter.widget-view+json": {
       "model_id": "dae48928944442058434e910ca8de60e",
       "version_major": 2,
       "version_minor": 0
      },
      "text/plain": [
       "features:   0%|          | 0/18 [00:00<?, ?it/s]"
      ]
     },
     "metadata": {},
     "output_type": "display_data"
    },
    {
     "data": {
      "text/html": [
       "<style  type=\"text/css\" >\n",
       "#T_3e908_row0_col1,#T_3e908_row1_col1,#T_3e908_row2_col1,#T_3e908_row3_col1,#T_3e908_row4_col1,#T_3e908_row5_col1,#T_3e908_row6_col1,#T_3e908_row7_col1,#T_3e908_row8_col1,#T_3e908_row9_col1,#T_3e908_row10_col1,#T_3e908_row11_col1,#T_3e908_row12_col1,#T_3e908_row13_col1,#T_3e908_row14_col1,#T_3e908_row15_col1,#T_3e908_row16_col1,#T_3e908_row17_col1{\n",
       "            background-color:  yellow;\n",
       "        }</style><table id=\"T_3e908_\" ><thead>    <tr>        <th class=\"blank level0\" ></th>        <th class=\"col_heading level0 col0\" >dim</th>        <th class=\"col_heading level0 col1\" >LDA</th>        <th class=\"col_heading level0 col2\" >QDA</th>    </tr></thead><tbody>\n",
       "                <tr>\n",
       "                        <th id=\"T_3e908_level0_row0\" class=\"row_heading level0 row0\" >chroma_cens</th>\n",
       "                        <td id=\"T_3e908_row0_col0\" class=\"data row0 col0\" >84.000000</td>\n",
       "                        <td id=\"T_3e908_row0_col1\" class=\"data row0 col1\" >38.24%</td>\n",
       "                        <td id=\"T_3e908_row0_col2\" class=\"data row0 col2\" >24.64%</td>\n",
       "            </tr>\n",
       "            <tr>\n",
       "                        <th id=\"T_3e908_level0_row1\" class=\"row_heading level0 row1\" >chroma_cqt</th>\n",
       "                        <td id=\"T_3e908_row1_col0\" class=\"data row1 col0\" >84.000000</td>\n",
       "                        <td id=\"T_3e908_row1_col1\" class=\"data row1 col1\" >39.76%</td>\n",
       "                        <td id=\"T_3e908_row1_col2\" class=\"data row1 col2\" >3.58%</td>\n",
       "            </tr>\n",
       "            <tr>\n",
       "                        <th id=\"T_3e908_level0_row2\" class=\"row_heading level0 row2\" >chroma_stft</th>\n",
       "                        <td id=\"T_3e908_row2_col0\" class=\"data row2 col0\" >84.000000</td>\n",
       "                        <td id=\"T_3e908_row2_col1\" class=\"data row2 col1\" >43.53%</td>\n",
       "                        <td id=\"T_3e908_row2_col2\" class=\"data row2 col2\" >5.64%</td>\n",
       "            </tr>\n",
       "            <tr>\n",
       "                        <th id=\"T_3e908_level0_row3\" class=\"row_heading level0 row3\" >mfcc</th>\n",
       "                        <td id=\"T_3e908_row3_col0\" class=\"data row3 col0\" >140.000000</td>\n",
       "                        <td id=\"T_3e908_row3_col1\" class=\"data row3 col1\" >57.68%</td>\n",
       "                        <td id=\"T_3e908_row3_col2\" class=\"data row3 col2\" >48.39%</td>\n",
       "            </tr>\n",
       "            <tr>\n",
       "                        <th id=\"T_3e908_level0_row4\" class=\"row_heading level0 row4\" >rmse</th>\n",
       "                        <td id=\"T_3e908_row4_col0\" class=\"data row4 col0\" >7.000000</td>\n",
       "                        <td id=\"T_3e908_row4_col1\" class=\"data row4 col1\" >36.57%</td>\n",
       "                        <td id=\"T_3e908_row4_col2\" class=\"data row4 col2\" >15.04%</td>\n",
       "            </tr>\n",
       "            <tr>\n",
       "                        <th id=\"T_3e908_level0_row5\" class=\"row_heading level0 row5\" >spectral_bandwidth</th>\n",
       "                        <td id=\"T_3e908_row5_col0\" class=\"data row5 col0\" >7.000000</td>\n",
       "                        <td id=\"T_3e908_row5_col1\" class=\"data row5 col1\" >39.84%</td>\n",
       "                        <td id=\"T_3e908_row5_col2\" class=\"data row5 col2\" >34.16%</td>\n",
       "            </tr>\n",
       "            <tr>\n",
       "                        <th id=\"T_3e908_level0_row6\" class=\"row_heading level0 row6\" >spectral_centroid</th>\n",
       "                        <td id=\"T_3e908_row6_col0\" class=\"data row6 col0\" >7.000000</td>\n",
       "                        <td id=\"T_3e908_row6_col1\" class=\"data row6 col1\" >43.02%</td>\n",
       "                        <td id=\"T_3e908_row6_col2\" class=\"data row6 col2\" >36.11%</td>\n",
       "            </tr>\n",
       "            <tr>\n",
       "                        <th id=\"T_3e908_level0_row7\" class=\"row_heading level0 row7\" >spectral_contrast</th>\n",
       "                        <td id=\"T_3e908_row7_col0\" class=\"data row7 col0\" >49.000000</td>\n",
       "                        <td id=\"T_3e908_row7_col1\" class=\"data row7 col1\" >48.93%</td>\n",
       "                        <td id=\"T_3e908_row7_col2\" class=\"data row7 col2\" >41.78%</td>\n",
       "            </tr>\n",
       "            <tr>\n",
       "                        <th id=\"T_3e908_level0_row8\" class=\"row_heading level0 row8\" >spectral_rolloff</th>\n",
       "                        <td id=\"T_3e908_row8_col0\" class=\"data row8 col0\" >7.000000</td>\n",
       "                        <td id=\"T_3e908_row8_col1\" class=\"data row8 col1\" >41.51%</td>\n",
       "                        <td id=\"T_3e908_row8_col2\" class=\"data row8 col2\" >28.53%</td>\n",
       "            </tr>\n",
       "            <tr>\n",
       "                        <th id=\"T_3e908_level0_row9\" class=\"row_heading level0 row9\" >tonnetz</th>\n",
       "                        <td id=\"T_3e908_row9_col0\" class=\"data row9 col0\" >42.000000</td>\n",
       "                        <td id=\"T_3e908_row9_col1\" class=\"data row9 col1\" >38.98%</td>\n",
       "                        <td id=\"T_3e908_row9_col2\" class=\"data row9 col2\" >23.05%</td>\n",
       "            </tr>\n",
       "            <tr>\n",
       "                        <th id=\"T_3e908_level0_row10\" class=\"row_heading level0 row10\" >zcr</th>\n",
       "                        <td id=\"T_3e908_row10_col0\" class=\"data row10 col0\" >7.000000</td>\n",
       "                        <td id=\"T_3e908_row10_col1\" class=\"data row10 col1\" >41.51%</td>\n",
       "                        <td id=\"T_3e908_row10_col2\" class=\"data row10 col2\" >32.10%</td>\n",
       "            </tr>\n",
       "            <tr>\n",
       "                        <th id=\"T_3e908_level0_row11\" class=\"row_heading level0 row11\" >mfcc/contrast</th>\n",
       "                        <td id=\"T_3e908_row11_col0\" class=\"data row11 col0\" >189.000000</td>\n",
       "                        <td id=\"T_3e908_row11_col1\" class=\"data row11 col1\" >59.89%</td>\n",
       "                        <td id=\"T_3e908_row11_col2\" class=\"data row11 col2\" >51.85%</td>\n",
       "            </tr>\n",
       "            <tr>\n",
       "                        <th id=\"T_3e908_level0_row12\" class=\"row_heading level0 row12\" >mfcc/contrast/chroma</th>\n",
       "                        <td id=\"T_3e908_row12_col0\" class=\"data row12 col0\" >273.000000</td>\n",
       "                        <td id=\"T_3e908_row12_col1\" class=\"data row12 col1\" >60.32%</td>\n",
       "                        <td id=\"T_3e908_row12_col2\" class=\"data row12 col2\" >51.34%</td>\n",
       "            </tr>\n",
       "            <tr>\n",
       "                        <th id=\"T_3e908_level0_row13\" class=\"row_heading level0 row13\" >mfcc/contrast/centroid</th>\n",
       "                        <td id=\"T_3e908_row13_col0\" class=\"data row13 col0\" >196.000000</td>\n",
       "                        <td id=\"T_3e908_row13_col1\" class=\"data row13 col1\" >59.97%</td>\n",
       "                        <td id=\"T_3e908_row13_col2\" class=\"data row13 col2\" >51.69%</td>\n",
       "            </tr>\n",
       "            <tr>\n",
       "                        <th id=\"T_3e908_level0_row14\" class=\"row_heading level0 row14\" >mfcc/contrast/chroma/centroid</th>\n",
       "                        <td id=\"T_3e908_row14_col0\" class=\"data row14 col0\" >280.000000</td>\n",
       "                        <td id=\"T_3e908_row14_col1\" class=\"data row14 col1\" >60.90%</td>\n",
       "                        <td id=\"T_3e908_row14_col2\" class=\"data row14 col2\" >51.34%</td>\n",
       "            </tr>\n",
       "            <tr>\n",
       "                        <th id=\"T_3e908_level0_row15\" class=\"row_heading level0 row15\" >mfcc/contrast/chroma/centroid/tonnetz</th>\n",
       "                        <td id=\"T_3e908_row15_col0\" class=\"data row15 col0\" >322.000000</td>\n",
       "                        <td id=\"T_3e908_row15_col1\" class=\"data row15 col1\" >60.86%</td>\n",
       "                        <td id=\"T_3e908_row15_col2\" class=\"data row15 col2\" >50.72%</td>\n",
       "            </tr>\n",
       "            <tr>\n",
       "                        <th id=\"T_3e908_level0_row16\" class=\"row_heading level0 row16\" >mfcc/contrast/chroma/centroid/zcr</th>\n",
       "                        <td id=\"T_3e908_row16_col0\" class=\"data row16 col0\" >287.000000</td>\n",
       "                        <td id=\"T_3e908_row16_col1\" class=\"data row16 col1\" >60.44%</td>\n",
       "                        <td id=\"T_3e908_row16_col2\" class=\"data row16 col2\" >51.42%</td>\n",
       "            </tr>\n",
       "            <tr>\n",
       "                        <th id=\"T_3e908_level0_row17\" class=\"row_heading level0 row17\" >all_non-echonest</th>\n",
       "                        <td id=\"T_3e908_row17_col0\" class=\"data row17 col0\" >518.000000</td>\n",
       "                        <td id=\"T_3e908_row17_col1\" class=\"data row17 col1\" >62.11%</td>\n",
       "                        <td id=\"T_3e908_row17_col2\" class=\"data row17 col2\" >19.28%</td>\n",
       "            </tr>\n",
       "    </tbody></table>"
      ],
      "text/plain": [
       "<pandas.io.formats.style.Styler at 0x7f2bde149fd0>"
      ]
     },
     "metadata": {},
     "output_type": "display_data"
    }
   ],
   "source": [
    "scores = run_models(models, feature_sets)\n",
    "\n",
    "ipd.display(format_scores(scores))"
   ]
  },
  {
   "cell_type": "code",
   "execution_count": null,
   "metadata": {},
   "outputs": [],
   "source": []
  }
 ],
 "metadata": {
  "kernelspec": {
   "display_name": "Python 3",
   "language": "python",
   "name": "python3"
  },
  "language_info": {
   "codemirror_mode": {
    "name": "ipython",
    "version": 3
   },
   "file_extension": ".py",
   "mimetype": "text/x-python",
   "name": "python",
   "nbconvert_exporter": "python",
   "pygments_lexer": "ipython3",
   "version": "3.8.5"
  }
 },
 "nbformat": 4,
 "nbformat_minor": 2
}
