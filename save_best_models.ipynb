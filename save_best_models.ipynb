{
 "cells": [
  {
   "cell_type": "code",
   "execution_count": 1,
   "id": "vietnamese-stretch",
   "metadata": {},
   "outputs": [],
   "source": [
    "from sklearn.linear_model import LogisticRegression\n",
    "from sklearn.svm import SVC, LinearSVC\n",
    "from sklearn.neural_network import MLPClassifier\n",
    "from sklearn.neighbors import KNeighborsClassifier\n",
    "from sklearn.tree import DecisionTreeClassifier\n",
    "from sklearn.naive_bayes import GaussianNB\n",
    "from sklearn.ensemble import GradientBoostingClassifier\n",
    "from sklearn.discriminant_analysis import LinearDiscriminantAnalysis, QuadraticDiscriminantAnalysis\n",
    "from tqdm.notebook import tqdm\n",
    "import time\n",
    "from joblib import dump\n",
    "import warnings\n",
    "warnings.filterwarnings('ignore')"
   ]
  },
  {
   "cell_type": "code",
   "execution_count": 2,
   "id": "alert-firewall",
   "metadata": {},
   "outputs": [],
   "source": [
    "%run pre_proc.ipynb"
   ]
  },
  {
   "cell_type": "code",
   "execution_count": 4,
   "id": "living-parking",
   "metadata": {},
   "outputs": [
    {
     "data": {
      "text/plain": [
       "['models/LR.joblib']"
      ]
     },
     "execution_count": 4,
     "metadata": {},
     "output_type": "execute_result"
    }
   ],
   "source": [
    "#Best Logistic Regression Model\n",
    "y_train, y_val, y_test, X_train, X_val, X_test = pre_process(tracks, features_all, feature_sets['all_non-echonest'], False)\n",
    "LR = LogisticRegression(solver='saga').fit(X_train, y_train)\n",
    "dump(LR, 'models/LR.joblib')"
   ]
  },
  {
   "cell_type": "code",
   "execution_count": 5,
   "id": "lesbian-printer",
   "metadata": {},
   "outputs": [
    {
     "data": {
      "text/plain": [
       "['models/SVCLinear.joblib']"
      ]
     },
     "execution_count": 5,
     "metadata": {},
     "output_type": "execute_result"
    }
   ],
   "source": [
    "#Best Linear SVC\n",
    "y_train, y_val, y_test, X_train, X_val, X_test = pre_process(tracks, features_all, feature_sets['mfcc/contrast/centroid'], False)\n",
    "SVCLinear = LinearSVC().fit(X_train, y_train)\n",
    "dump(SVCLinear, 'models/SVCLinear.joblib')"
   ]
  },
  {
   "cell_type": "code",
   "execution_count": 6,
   "id": "bibliographic-history",
   "metadata": {},
   "outputs": [
    {
     "data": {
      "text/plain": [
       "['models/SVCrbf.joblib']"
      ]
     },
     "execution_count": 6,
     "metadata": {},
     "output_type": "execute_result"
    }
   ],
   "source": [
    "#Best RBF SVC\n",
    "y_train, y_val, y_test, X_train, X_val, X_test = pre_process(tracks, features_all, feature_sets['mfcc/contrast/centroid'], False)\n",
    "SVCrbf = SVC(kernel='rbf').fit(X_train, y_train)\n",
    "dump(SVCrbf, 'models/SVCrbf.joblib')"
   ]
  },
  {
   "cell_type": "code",
   "execution_count": 7,
   "id": "loving-virtue",
   "metadata": {},
   "outputs": [
    {
     "data": {
      "text/plain": [
       "['models/kNN.joblib']"
      ]
     },
     "execution_count": 7,
     "metadata": {},
     "output_type": "execute_result"
    }
   ],
   "source": [
    "#Best kNN\n",
    "y_train, y_val, y_test, X_train, X_val, X_test = pre_process(tracks, features_all, feature_sets['mfcc/contrast'], False)\n",
    "kNN = KNeighborsClassifier(n_neighbors=200).fit(X_train, y_train)\n",
    "dump(kNN, 'models/kNN.joblib')"
   ]
  },
  {
   "cell_type": "code",
   "execution_count": 8,
   "id": "coupled-tobago",
   "metadata": {},
   "outputs": [
    {
     "data": {
      "text/plain": [
       "['models/MLP.joblib']"
      ]
     },
     "execution_count": 8,
     "metadata": {},
     "output_type": "execute_result"
    }
   ],
   "source": [
    "#Best Multi Layer Perceptron\n",
    "y_train, y_val, y_test, X_train, X_val, X_test = pre_process(tracks, features_all, feature_sets['all_non-echonest'], False)\n",
    "MLP = MLPClassifier(random_state=42, max_iter=200).fit(X_train, y_train)\n",
    "dump(MLP, 'models/MLP.joblib')"
   ]
  },
  {
   "cell_type": "code",
   "execution_count": 9,
   "id": "aware-velvet",
   "metadata": {},
   "outputs": [
    {
     "data": {
      "text/plain": [
       "['models/DT.joblib']"
      ]
     },
     "execution_count": 9,
     "metadata": {},
     "output_type": "execute_result"
    }
   ],
   "source": [
    "#Best Decision Tree Classifier\n",
    "y_train, y_val, y_test, X_train, X_val, X_test = pre_process(tracks, features_all, feature_sets['mfcc/contrast/chroma/centroid/zcr'], False)\n",
    "DT = DecisionTreeClassifier().fit(X_train, y_train)\n",
    "dump(DT, 'models/DT.joblib')"
   ]
  },
  {
   "cell_type": "code",
   "execution_count": 10,
   "id": "progressive-limit",
   "metadata": {},
   "outputs": [
    {
     "data": {
      "text/plain": [
       "['models/NB.joblib']"
      ]
     },
     "execution_count": 10,
     "metadata": {},
     "output_type": "execute_result"
    }
   ],
   "source": [
    "#Best Naive Bayes Classifier\n",
    "y_train, y_val, y_test, X_train, X_val, X_test = pre_process(tracks, features_all, feature_sets['mfcc/contrast'], False)\n",
    "NB = GaussianNB().fit(X_train, y_train)\n",
    "dump(NB, 'models/NB.joblib')"
   ]
  },
  {
   "cell_type": "code",
   "execution_count": 11,
   "id": "emotional-economy",
   "metadata": {},
   "outputs": [
    {
     "data": {
      "text/plain": [
       "['models/LDA.joblib']"
      ]
     },
     "execution_count": 11,
     "metadata": {},
     "output_type": "execute_result"
    }
   ],
   "source": [
    "#Best Linear Discriminant Analysis\n",
    "y_train, y_val, y_test, X_train, X_val, X_test = pre_process(tracks, features_all, feature_sets['all_non-echonest'], False)\n",
    "LDA = LinearDiscriminantAnalysis().fit(X_train, y_train)\n",
    "dump(LDA, 'models/LDA.joblib')"
   ]
  },
  {
   "cell_type": "code",
   "execution_count": 12,
   "id": "smooth-government",
   "metadata": {},
   "outputs": [
    {
     "data": {
      "text/plain": [
       "['models/QDA.joblib']"
      ]
     },
     "execution_count": 12,
     "metadata": {},
     "output_type": "execute_result"
    }
   ],
   "source": [
    "#Best Quadratic Discriminant Analysis\n",
    "y_train, y_val, y_test, X_train, X_val, X_test = pre_process(tracks, features_all, feature_sets['mfcc/contrast'], False)\n",
    "QDA = QuadraticDiscriminantAnalysis().fit(X_train, y_train)\n",
    "dump(QDA, 'models/QDA.joblib')"
   ]
  }
 ],
 "metadata": {
  "kernelspec": {
   "display_name": "Python 3",
   "language": "python",
   "name": "python3"
  },
  "language_info": {
   "codemirror_mode": {
    "name": "ipython",
    "version": 3
   },
   "file_extension": ".py",
   "mimetype": "text/x-python",
   "name": "python",
   "nbconvert_exporter": "python",
   "pygments_lexer": "ipython3",
   "version": "3.8.5"
  }
 },
 "nbformat": 4,
 "nbformat_minor": 5
}
